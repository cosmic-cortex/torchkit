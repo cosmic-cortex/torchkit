{
 "cells": [
  {
   "cell_type": "code",
   "execution_count": 1,
   "metadata": {},
   "outputs": [],
   "source": [
    "import torch\n",
    "import torch.nn as nn\n",
    "import torchvision.transforms as T\n",
    "\n",
    "from torchkit.models.vision.GAN.gan import Discriminator, Generator\n",
    "from torchkit.tools.wrapper import GAN\n",
    "\n",
    "from torch.optim import Adam\n",
    "from torchvision.datasets import MNIST\n",
    "\n",
    "dataset = MNIST('./data/MNIST', download=True, transform=T.ToTensor())\n",
    "device = torch.device('cuda:2')"
   ]
  },
  {
   "cell_type": "code",
   "execution_count": 2,
   "metadata": {},
   "outputs": [],
   "source": [
    "g = Generator(100, (28, 28))\n",
    "g_opt = Adam(g.parameters(), 1e-3)\n",
    "d = Discriminator((28, 28))\n",
    "d_opt = Adam(d.parameters(), 1e-3)\n",
    "d_loss = nn.CrossEntropyLoss()\n",
    "\n",
    "gan = GAN(g=g, g_opt=g_opt,\n",
    "          d=d, d_loss=d_loss, d_opt=d_opt,\n",
    "          noise_shape=100, checkpoint_folder='../checkpoints/GAN_test',\n",
    "          device=device)"
   ]
  },
  {
   "cell_type": "code",
   "execution_count": null,
   "metadata": {},
   "outputs": [
    {
     "name": "stdout",
     "output_type": "stream",
     "text": [
      "{'epoch': 1, 'd_real_loss': 0.361098991582791, 'd_fake_loss': 0.31520444303750994, 'g_loss': 0.3138377378384272}\n"
     ]
    }
   ],
   "source": [
    "gan.fit_dataset(dataset, n_epochs=100, n_batch=500, shuffle=True, long_gt=True, verbose=True)"
   ]
  },
  {
   "cell_type": "code",
   "execution_count": null,
   "metadata": {
    "collapsed": true
   },
   "outputs": [],
   "source": []
  }
 ],
 "metadata": {
  "kernelspec": {
   "display_name": "pytorch",
   "language": "python",
   "name": "pytorch"
  },
  "language_info": {
   "codemirror_mode": {
    "name": "ipython",
    "version": 3
   },
   "file_extension": ".py",
   "mimetype": "text/x-python",
   "name": "python",
   "nbconvert_exporter": "python",
   "pygments_lexer": "ipython3",
   "version": "3.6.5"
  }
 },
 "nbformat": 4,
 "nbformat_minor": 1
}
